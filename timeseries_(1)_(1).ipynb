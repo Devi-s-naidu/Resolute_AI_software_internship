{
  "nbformat": 4,
  "nbformat_minor": 0,
  "metadata": {
    "colab": {
      "provenance": [],
      "include_colab_link": true
    },
    "kernelspec": {
      "name": "python3",
      "display_name": "Python 3"
    },
    "language_info": {
      "name": "python"
    },
    "gpuClass": "standard"
  },
  "cells": [
    {
      "cell_type": "markdown",
      "metadata": {
        "id": "view-in-github",
        "colab_type": "text"
      },
      "source": [
        "<a href=\"https://colab.research.google.com/github/Devi-s-naidu/Resolute_AI_software_internship/blob/main/timeseries_(1)_(1).ipynb\" target=\"_parent\"><img src=\"https://colab.research.google.com/assets/colab-badge.svg\" alt=\"Open In Colab\"/></a>"
      ]
    },
    {
      "cell_type": "code",
      "execution_count": 2,
      "metadata": {
        "id": "RXcsJ1oblDV8"
      },
      "outputs": [],
      "source": [
        "import tensorflow as tf\n",
        "import numpy as np\n",
        "import os\n",
        "import matplotlib as plt"
      ]
    },
    {
      "cell_type": "code",
      "source": [
        "from google.colab import drive\n",
        "drive.mount('/content/drive')"
      ],
      "metadata": {
        "colab": {
          "base_uri": "https://localhost:8080/"
        },
        "id": "zKYxaVt2cjq0",
        "outputId": "8fa1599d-e57d-4050-f391-bf62e50b17cc"
      },
      "execution_count": 1,
      "outputs": [
        {
          "output_type": "stream",
          "name": "stdout",
          "text": [
            "Mounted at /content/drive\n"
          ]
        }
      ]
    },
    {
      "cell_type": "code",
      "source": [
        "def get_data():\n",
        "  data_file = \"./station.csv\"\n",
        "  f = open(data_file)\n",
        "  data = f.read()\n",
        "  f.close()\n",
        "  lines = data.split('\\n')\n",
        "  header = lines[0].split(',')\n",
        "  lines = lines[2:]\n",
        "  temperatures=[]\n",
        "  for line in lines:\n",
        "    if line:\n",
        "      linedata = line.split(',')\n",
        "      linedata = linedata[1:13]\n",
        "      for item in linedata:\n",
        "        if item:\n",
        "          temperatures.append(float(item))\n",
        "  series = np.asarray(temperatures)\n",
        "  time = np.arange(len(temperatures), dtype=\"float32\")\n",
        "  return time, series"
      ],
      "metadata": {
        "id": "MXV4pwVLpVg3"
      },
      "execution_count": 3,
      "outputs": []
    },
    {
      "cell_type": "code",
      "source": [
        "time, series = get_data()"
      ],
      "metadata": {
        "id": "70vtRA6gqXza"
      },
      "execution_count": 4,
      "outputs": []
    },
    {
      "cell_type": "code",
      "source": [
        "out = np.logical_not(series > 200)\n",
        "series=series[out]\n",
        "time=time[out]"
      ],
      "metadata": {
        "id": "2kNMHkkqYGv4"
      },
      "execution_count": 5,
      "outputs": []
    },
    {
      "cell_type": "code",
      "source": [
        "len(series)"
      ],
      "metadata": {
        "colab": {
          "base_uri": "https://localhost:8080/"
        },
        "id": "KjvpWj3Nq-5W",
        "outputId": "9c001cc9-89c2-4d5d-9e4b-22e01209c47d"
      },
      "execution_count": 6,
      "outputs": [
        {
          "output_type": "execute_result",
          "data": {
            "text/plain": [
              "657"
            ]
          },
          "metadata": {},
          "execution_count": 6
        }
      ]
    },
    {
      "cell_type": "code",
      "source": [
        "mean = series.mean(axis=0)\n",
        "series-=mean\n",
        "std = series.std(axis=0)\n",
        "series/=std"
      ],
      "metadata": {
        "id": "6x3i1uvzsB8i"
      },
      "execution_count": 7,
      "outputs": []
    },
    {
      "cell_type": "code",
      "source": [
        "#device_name = tf.test.gpu_device_name()"
      ],
      "metadata": {
        "id": "EuAv2tUvuXt-"
      },
      "execution_count": 8,
      "outputs": []
    },
    {
      "cell_type": "code",
      "source": [
        "split_time = 390\n",
        "time_train = time[:split_time]\n",
        "x_train = series[:split_time]\n",
        "time_valid = time[split_time:]\n",
        "x_valid = series[split_time:]"
      ],
      "metadata": {
        "id": "xzcH5rGJuyu7"
      },
      "execution_count": 9,
      "outputs": []
    },
    {
      "cell_type": "code",
      "source": [
        "window_size = 48\n",
        "batch_size = 12\n",
        "shuffle_buffer_size = 96"
      ],
      "metadata": {
        "id": "QbcwopqA0rTf"
      },
      "execution_count": 10,
      "outputs": []
    },
    {
      "cell_type": "code",
      "source": [
        "def windowed_dataset(series, window_size,\n",
        "batch_size, shuffle_buffer):\n",
        "  series = tf.expand_dims(series, axis=-1)\n",
        "  dataset = tf.data.Dataset.from_tensor_slices(series)\n",
        "  dataset = dataset.window(window_size + 1, shift=1,\n",
        "  drop_remainder=True)\n",
        "  dataset = dataset.flat_map(lambda window:window.batch(window_size + 1))\n",
        "  dataset = dataset.shuffle(shuffle_buffer).map(lambda window:(window[:-1], window[-1]))\n",
        "  dataset = dataset.batch(batch_size).prefetch(1)\n",
        "  return dataset"
      ],
      "metadata": {
        "id": "C4Xb8LbI14IN"
      },
      "execution_count": 11,
      "outputs": []
    },
    {
      "cell_type": "code",
      "source": [
        "dataset = windowed_dataset(x_train, window_size, batch_size, shuffle_buffer_size)"
      ],
      "metadata": {
        "id": "snIuU0xF2Hql"
      },
      "execution_count": 12,
      "outputs": []
    },
    {
      "cell_type": "code",
      "source": [
        "valid_dataset = windowed_dataset(x_valid, window_size, batch_size, shuffle_buffer_size)"
      ],
      "metadata": {
        "id": "WQdbJu3e27DX"
      },
      "execution_count": 13,
      "outputs": []
    },
    {
      "cell_type": "code",
      "source": [
        "initializer=tf.keras.initializers.RandomNormal(mean=0., stddev=1.)"
      ],
      "metadata": {
        "id": "7n-PzlO5DlQb"
      },
      "execution_count": 14,
      "outputs": []
    },
    {
      "cell_type": "code",
      "source": [
        "def model_forecast(model, series, window_size):\n",
        "  series = tf.expand_dims(series, axis=-1)\n",
        "  ds = tf.data.Dataset.from_tensor_slices(series)\n",
        "  ds = ds.window(window_size, shift=1, drop_remainder=True)\n",
        "  ds = ds.flat_map(lambda w: w.batch(window_size))\n",
        "  ds = ds.batch(12).prefetch(1)\n",
        "  forecast = model.predict(ds)\n",
        "  return forecast"
      ],
      "metadata": {
        "id": "1xMegkn7BbjB"
      },
      "execution_count": 16,
      "outputs": []
    },
    {
      "cell_type": "code",
      "source": [
        "model = tf.keras.models.Sequential([\n",
        "tf.keras.layers.GRU(100, input_shape=[None, 1], return_sequences=True, kernel_initializer=initializer),\n",
        "tf.keras.layers.GRU(units=100, kernel_initializer=initializer),\n",
        "tf.keras.layers.Dense(1),\n",
        "])\n",
        "model.compile(loss=tf.keras.losses.Huber(), optimizer=tf.keras.optimizers.SGD(learning_rate = 1.5e-6, momentum = 0.5),\n",
        "              metrics=['mae'])"
      ],
      "metadata": {
        "id": "Svkpfw6X-UhE",
        "colab": {
          "base_uri": "https://localhost:8080/"
        },
        "outputId": "bcd74bc1-3308-4274-a668-3903a864e318"
      },
      "execution_count": 17,
      "outputs": [
        {
          "output_type": "stream",
          "name": "stderr",
          "text": [
            "/usr/local/lib/python3.10/dist-packages/keras/initializers/initializers.py:120: UserWarning: The initializer RandomNormal is unseeded and being called multiple times, which will return identical values each time (even if the initializer is unseeded). Please update your code to provide a seed to the initializer, or avoid using the same initalizer instance more than once.\n",
            "  warnings.warn(\n"
          ]
        }
      ]
    },
    {
      "cell_type": "code",
      "source": [
        "history = model.fit(dataset, epochs=100, verbose=1, validation_data=valid_dataset)"
      ],
      "metadata": {
        "colab": {
          "base_uri": "https://localhost:8080/"
        },
        "id": "oBHTAOCc_roR",
        "outputId": "c2329efe-9a84-4cae-89d3-ce332bb557da"
      },
      "execution_count": 18,
      "outputs": [
        {
          "output_type": "stream",
          "name": "stdout",
          "text": [
            "Epoch 1/100\n",
            "29/29 [==============================] - 9s 165ms/step - loss: 0.8230 - mae: 1.2375 - val_loss: 0.7234 - val_mae: 1.1320\n",
            "Epoch 2/100\n",
            "29/29 [==============================] - 2s 81ms/step - loss: 0.8222 - mae: 1.2365 - val_loss: 0.7228 - val_mae: 1.1314\n",
            "Epoch 3/100\n",
            "29/29 [==============================] - 3s 100ms/step - loss: 0.8213 - mae: 1.2355 - val_loss: 0.7222 - val_mae: 1.1307\n",
            "Epoch 4/100\n",
            "29/29 [==============================] - 3s 105ms/step - loss: 0.8205 - mae: 1.2346 - val_loss: 0.7217 - val_mae: 1.1301\n",
            "Epoch 5/100\n",
            "29/29 [==============================] - 4s 127ms/step - loss: 0.8196 - mae: 1.2336 - val_loss: 0.7211 - val_mae: 1.1295\n",
            "Epoch 6/100\n",
            "29/29 [==============================] - 3s 98ms/step - loss: 0.8188 - mae: 1.2326 - val_loss: 0.7205 - val_mae: 1.1289\n",
            "Epoch 7/100\n",
            "29/29 [==============================] - 3s 109ms/step - loss: 0.8179 - mae: 1.2317 - val_loss: 0.7200 - val_mae: 1.1283\n",
            "Epoch 8/100\n",
            "29/29 [==============================] - 2s 76ms/step - loss: 0.8171 - mae: 1.2307 - val_loss: 0.7194 - val_mae: 1.1276\n",
            "Epoch 9/100\n",
            "29/29 [==============================] - 2s 76ms/step - loss: 0.8162 - mae: 1.2297 - val_loss: 0.7189 - val_mae: 1.1270\n",
            "Epoch 10/100\n",
            "29/29 [==============================] - 3s 92ms/step - loss: 0.8154 - mae: 1.2288 - val_loss: 0.7183 - val_mae: 1.1264\n",
            "Epoch 11/100\n",
            "29/29 [==============================] - 4s 132ms/step - loss: 0.8145 - mae: 1.2278 - val_loss: 0.7177 - val_mae: 1.1258\n",
            "Epoch 12/100\n",
            "29/29 [==============================] - 2s 75ms/step - loss: 0.8137 - mae: 1.2268 - val_loss: 0.7172 - val_mae: 1.1252\n",
            "Epoch 13/100\n",
            "29/29 [==============================] - 2s 74ms/step - loss: 0.8128 - mae: 1.2259 - val_loss: 0.7166 - val_mae: 1.1246\n",
            "Epoch 14/100\n",
            "29/29 [==============================] - 2s 74ms/step - loss: 0.8120 - mae: 1.2249 - val_loss: 0.7161 - val_mae: 1.1240\n",
            "Epoch 15/100\n",
            "29/29 [==============================] - 3s 89ms/step - loss: 0.8111 - mae: 1.2239 - val_loss: 0.7155 - val_mae: 1.1233\n",
            "Epoch 16/100\n",
            "29/29 [==============================] - 3s 90ms/step - loss: 0.8103 - mae: 1.2229 - val_loss: 0.7150 - val_mae: 1.1227\n",
            "Epoch 17/100\n",
            "29/29 [==============================] - 2s 80ms/step - loss: 0.8094 - mae: 1.2220 - val_loss: 0.7145 - val_mae: 1.1221\n",
            "Epoch 18/100\n",
            "29/29 [==============================] - 2s 75ms/step - loss: 0.8086 - mae: 1.2210 - val_loss: 0.7139 - val_mae: 1.1215\n",
            "Epoch 19/100\n",
            "29/29 [==============================] - 2s 79ms/step - loss: 0.8077 - mae: 1.2200 - val_loss: 0.7133 - val_mae: 1.1209\n",
            "Epoch 20/100\n",
            "29/29 [==============================] - 4s 148ms/step - loss: 0.8069 - mae: 1.2191 - val_loss: 0.7128 - val_mae: 1.1203\n",
            "Epoch 21/100\n",
            "29/29 [==============================] - 3s 83ms/step - loss: 0.8060 - mae: 1.2181 - val_loss: 0.7122 - val_mae: 1.1197\n",
            "Epoch 22/100\n",
            "29/29 [==============================] - 3s 102ms/step - loss: 0.8052 - mae: 1.2171 - val_loss: 0.7117 - val_mae: 1.1191\n",
            "Epoch 23/100\n",
            "29/29 [==============================] - 2s 81ms/step - loss: 0.8044 - mae: 1.2162 - val_loss: 0.7111 - val_mae: 1.1185\n",
            "Epoch 24/100\n",
            "29/29 [==============================] - 2s 75ms/step - loss: 0.8035 - mae: 1.2152 - val_loss: 0.7106 - val_mae: 1.1178\n",
            "Epoch 25/100\n",
            "29/29 [==============================] - 4s 139ms/step - loss: 0.8027 - mae: 1.2142 - val_loss: 0.7101 - val_mae: 1.1172\n",
            "Epoch 26/100\n",
            "29/29 [==============================] - 4s 148ms/step - loss: 0.8018 - mae: 1.2133 - val_loss: 0.7095 - val_mae: 1.1166\n",
            "Epoch 27/100\n",
            "29/29 [==============================] - 2s 83ms/step - loss: 0.8010 - mae: 1.2123 - val_loss: 0.7090 - val_mae: 1.1160\n",
            "Epoch 28/100\n",
            "29/29 [==============================] - 3s 95ms/step - loss: 0.8002 - mae: 1.2114 - val_loss: 0.7084 - val_mae: 1.1154\n",
            "Epoch 29/100\n",
            "29/29 [==============================] - 3s 90ms/step - loss: 0.7993 - mae: 1.2104 - val_loss: 0.7079 - val_mae: 1.1148\n",
            "Epoch 30/100\n",
            "29/29 [==============================] - 3s 88ms/step - loss: 0.7985 - mae: 1.2094 - val_loss: 0.7074 - val_mae: 1.1142\n",
            "Epoch 31/100\n",
            "29/29 [==============================] - 4s 131ms/step - loss: 0.7977 - mae: 1.2085 - val_loss: 0.7068 - val_mae: 1.1136\n",
            "Epoch 32/100\n",
            "29/29 [==============================] - 2s 82ms/step - loss: 0.7969 - mae: 1.2075 - val_loss: 0.7063 - val_mae: 1.1130\n",
            "Epoch 33/100\n",
            "29/29 [==============================] - 3s 99ms/step - loss: 0.7960 - mae: 1.2066 - val_loss: 0.7058 - val_mae: 1.1124\n",
            "Epoch 34/100\n",
            "29/29 [==============================] - 4s 138ms/step - loss: 0.7952 - mae: 1.2056 - val_loss: 0.7052 - val_mae: 1.1118\n",
            "Epoch 35/100\n",
            "29/29 [==============================] - 4s 129ms/step - loss: 0.7944 - mae: 1.2047 - val_loss: 0.7047 - val_mae: 1.1112\n",
            "Epoch 36/100\n",
            "29/29 [==============================] - 3s 113ms/step - loss: 0.7935 - mae: 1.2037 - val_loss: 0.7041 - val_mae: 1.1106\n",
            "Epoch 37/100\n",
            "29/29 [==============================] - 3s 106ms/step - loss: 0.7927 - mae: 1.2027 - val_loss: 0.7036 - val_mae: 1.1100\n",
            "Epoch 38/100\n",
            "29/29 [==============================] - 3s 103ms/step - loss: 0.7919 - mae: 1.2018 - val_loss: 0.7031 - val_mae: 1.1094\n",
            "Epoch 39/100\n",
            "29/29 [==============================] - 3s 105ms/step - loss: 0.7911 - mae: 1.2008 - val_loss: 0.7025 - val_mae: 1.1088\n",
            "Epoch 40/100\n",
            "29/29 [==============================] - 3s 88ms/step - loss: 0.7903 - mae: 1.1999 - val_loss: 0.7020 - val_mae: 1.1082\n",
            "Epoch 41/100\n",
            "29/29 [==============================] - 3s 110ms/step - loss: 0.7894 - mae: 1.1989 - val_loss: 0.7015 - val_mae: 1.1076\n",
            "Epoch 42/100\n",
            "29/29 [==============================] - 4s 135ms/step - loss: 0.7886 - mae: 1.1980 - val_loss: 0.7009 - val_mae: 1.1070\n",
            "Epoch 43/100\n",
            "29/29 [==============================] - 2s 77ms/step - loss: 0.7878 - mae: 1.1970 - val_loss: 0.7004 - val_mae: 1.1064\n",
            "Epoch 44/100\n",
            "29/29 [==============================] - 2s 84ms/step - loss: 0.7870 - mae: 1.1961 - val_loss: 0.6999 - val_mae: 1.1057\n",
            "Epoch 45/100\n",
            "29/29 [==============================] - 3s 89ms/step - loss: 0.7861 - mae: 1.1951 - val_loss: 0.6993 - val_mae: 1.1051\n",
            "Epoch 46/100\n",
            "29/29 [==============================] - 4s 137ms/step - loss: 0.7853 - mae: 1.1942 - val_loss: 0.6988 - val_mae: 1.1046\n",
            "Epoch 47/100\n",
            "29/29 [==============================] - 3s 106ms/step - loss: 0.7845 - mae: 1.1932 - val_loss: 0.6983 - val_mae: 1.1040\n",
            "Epoch 48/100\n",
            "29/29 [==============================] - 3s 92ms/step - loss: 0.7837 - mae: 1.1923 - val_loss: 0.6978 - val_mae: 1.1034\n",
            "Epoch 49/100\n",
            "29/29 [==============================] - 4s 126ms/step - loss: 0.7829 - mae: 1.1914 - val_loss: 0.6973 - val_mae: 1.1028\n",
            "Epoch 50/100\n",
            "29/29 [==============================] - 3s 89ms/step - loss: 0.7820 - mae: 1.1904 - val_loss: 0.6967 - val_mae: 1.1022\n",
            "Epoch 51/100\n",
            "29/29 [==============================] - 3s 87ms/step - loss: 0.7812 - mae: 1.1895 - val_loss: 0.6962 - val_mae: 1.1016\n",
            "Epoch 52/100\n",
            "29/29 [==============================] - 3s 91ms/step - loss: 0.7804 - mae: 1.1885 - val_loss: 0.6957 - val_mae: 1.1010\n",
            "Epoch 53/100\n",
            "29/29 [==============================] - 4s 131ms/step - loss: 0.7796 - mae: 1.1876 - val_loss: 0.6952 - val_mae: 1.1004\n",
            "Epoch 54/100\n",
            "29/29 [==============================] - 3s 98ms/step - loss: 0.7788 - mae: 1.1867 - val_loss: 0.6947 - val_mae: 1.0998\n",
            "Epoch 55/100\n",
            "29/29 [==============================] - 3s 92ms/step - loss: 0.7780 - mae: 1.1857 - val_loss: 0.6941 - val_mae: 1.0992\n",
            "Epoch 56/100\n",
            "29/29 [==============================] - 4s 124ms/step - loss: 0.7772 - mae: 1.1848 - val_loss: 0.6936 - val_mae: 1.0986\n",
            "Epoch 57/100\n",
            "29/29 [==============================] - 3s 106ms/step - loss: 0.7764 - mae: 1.1839 - val_loss: 0.6931 - val_mae: 1.0980\n",
            "Epoch 58/100\n",
            "29/29 [==============================] - 2s 74ms/step - loss: 0.7756 - mae: 1.1830 - val_loss: 0.6926 - val_mae: 1.0974\n",
            "Epoch 59/100\n",
            "29/29 [==============================] - 2s 83ms/step - loss: 0.7748 - mae: 1.1820 - val_loss: 0.6921 - val_mae: 1.0968\n",
            "Epoch 60/100\n",
            "29/29 [==============================] - 3s 88ms/step - loss: 0.7740 - mae: 1.1811 - val_loss: 0.6916 - val_mae: 1.0962\n",
            "Epoch 61/100\n",
            "29/29 [==============================] - 3s 111ms/step - loss: 0.7732 - mae: 1.1802 - val_loss: 0.6911 - val_mae: 1.0957\n",
            "Epoch 62/100\n",
            "29/29 [==============================] - 2s 74ms/step - loss: 0.7724 - mae: 1.1793 - val_loss: 0.6906 - val_mae: 1.0951\n",
            "Epoch 63/100\n",
            "29/29 [==============================] - 3s 88ms/step - loss: 0.7716 - mae: 1.1783 - val_loss: 0.6900 - val_mae: 1.0945\n",
            "Epoch 64/100\n",
            "29/29 [==============================] - 3s 96ms/step - loss: 0.7708 - mae: 1.1774 - val_loss: 0.6895 - val_mae: 1.0939\n",
            "Epoch 65/100\n",
            "29/29 [==============================] - 3s 100ms/step - loss: 0.7700 - mae: 1.1765 - val_loss: 0.6890 - val_mae: 1.0933\n",
            "Epoch 66/100\n",
            "29/29 [==============================] - 2s 82ms/step - loss: 0.7692 - mae: 1.1756 - val_loss: 0.6885 - val_mae: 1.0927\n",
            "Epoch 67/100\n",
            "29/29 [==============================] - 3s 91ms/step - loss: 0.7684 - mae: 1.1747 - val_loss: 0.6880 - val_mae: 1.0921\n",
            "Epoch 68/100\n",
            "29/29 [==============================] - 3s 104ms/step - loss: 0.7676 - mae: 1.1738 - val_loss: 0.6875 - val_mae: 1.0915\n",
            "Epoch 69/100\n",
            "29/29 [==============================] - 4s 129ms/step - loss: 0.7668 - mae: 1.1728 - val_loss: 0.6870 - val_mae: 1.0910\n",
            "Epoch 70/100\n",
            "29/29 [==============================] - 2s 75ms/step - loss: 0.7660 - mae: 1.1719 - val_loss: 0.6865 - val_mae: 1.0904\n",
            "Epoch 71/100\n",
            "29/29 [==============================] - 2s 75ms/step - loss: 0.7652 - mae: 1.1710 - val_loss: 0.6860 - val_mae: 1.0898\n",
            "Epoch 72/100\n",
            "29/29 [==============================] - 3s 87ms/step - loss: 0.7644 - mae: 1.1701 - val_loss: 0.6855 - val_mae: 1.0892\n",
            "Epoch 73/100\n",
            "29/29 [==============================] - 2s 81ms/step - loss: 0.7636 - mae: 1.1692 - val_loss: 0.6850 - val_mae: 1.0886\n",
            "Epoch 74/100\n",
            "29/29 [==============================] - 4s 140ms/step - loss: 0.7628 - mae: 1.1683 - val_loss: 0.6845 - val_mae: 1.0881\n",
            "Epoch 75/100\n",
            "29/29 [==============================] - 2s 75ms/step - loss: 0.7620 - mae: 1.1674 - val_loss: 0.6840 - val_mae: 1.0875\n",
            "Epoch 76/100\n",
            "29/29 [==============================] - 2s 76ms/step - loss: 0.7612 - mae: 1.1665 - val_loss: 0.6835 - val_mae: 1.0870\n",
            "Epoch 77/100\n",
            "29/29 [==============================] - 3s 91ms/step - loss: 0.7604 - mae: 1.1656 - val_loss: 0.6830 - val_mae: 1.0864\n",
            "Epoch 78/100\n",
            "29/29 [==============================] - 3s 91ms/step - loss: 0.7596 - mae: 1.1647 - val_loss: 0.6825 - val_mae: 1.0858\n",
            "Epoch 79/100\n",
            "29/29 [==============================] - 4s 129ms/step - loss: 0.7588 - mae: 1.1638 - val_loss: 0.6819 - val_mae: 1.0852\n",
            "Epoch 80/100\n",
            "29/29 [==============================] - 2s 76ms/step - loss: 0.7580 - mae: 1.1629 - val_loss: 0.6814 - val_mae: 1.0846\n",
            "Epoch 81/100\n",
            "29/29 [==============================] - 2s 85ms/step - loss: 0.7573 - mae: 1.1620 - val_loss: 0.6809 - val_mae: 1.0840\n",
            "Epoch 82/100\n",
            "29/29 [==============================] - 2s 77ms/step - loss: 0.7565 - mae: 1.1611 - val_loss: 0.6804 - val_mae: 1.0834\n",
            "Epoch 83/100\n",
            "29/29 [==============================] - 3s 92ms/step - loss: 0.7557 - mae: 1.1602 - val_loss: 0.6799 - val_mae: 1.0829\n",
            "Epoch 84/100\n",
            "29/29 [==============================] - 2s 77ms/step - loss: 0.7549 - mae: 1.1593 - val_loss: 0.6794 - val_mae: 1.0823\n",
            "Epoch 85/100\n",
            "29/29 [==============================] - 2s 85ms/step - loss: 0.7541 - mae: 1.1584 - val_loss: 0.6790 - val_mae: 1.0818\n",
            "Epoch 86/100\n",
            "29/29 [==============================] - 2s 84ms/step - loss: 0.7533 - mae: 1.1575 - val_loss: 0.6785 - val_mae: 1.0812\n",
            "Epoch 87/100\n",
            "29/29 [==============================] - 3s 100ms/step - loss: 0.7526 - mae: 1.1566 - val_loss: 0.6780 - val_mae: 1.0807\n",
            "Epoch 88/100\n",
            "29/29 [==============================] - 4s 140ms/step - loss: 0.7518 - mae: 1.1557 - val_loss: 0.6775 - val_mae: 1.0801\n",
            "Epoch 89/100\n",
            "29/29 [==============================] - 4s 139ms/step - loss: 0.7510 - mae: 1.1548 - val_loss: 0.6770 - val_mae: 1.0795\n",
            "Epoch 90/100\n",
            "29/29 [==============================] - 2s 81ms/step - loss: 0.7502 - mae: 1.1539 - val_loss: 0.6765 - val_mae: 1.0790\n",
            "Epoch 91/100\n",
            "29/29 [==============================] - 2s 75ms/step - loss: 0.7494 - mae: 1.1530 - val_loss: 0.6760 - val_mae: 1.0784\n",
            "Epoch 92/100\n",
            "29/29 [==============================] - 3s 99ms/step - loss: 0.7487 - mae: 1.1521 - val_loss: 0.6755 - val_mae: 1.0779\n",
            "Epoch 93/100\n",
            "29/29 [==============================] - 5s 160ms/step - loss: 0.7479 - mae: 1.1512 - val_loss: 0.6751 - val_mae: 1.0774\n",
            "Epoch 94/100\n",
            "29/29 [==============================] - 3s 112ms/step - loss: 0.7471 - mae: 1.1503 - val_loss: 0.6746 - val_mae: 1.0768\n",
            "Epoch 95/100\n",
            "29/29 [==============================] - 3s 96ms/step - loss: 0.7464 - mae: 1.1494 - val_loss: 0.6741 - val_mae: 1.0763\n",
            "Epoch 96/100\n",
            "29/29 [==============================] - 2s 79ms/step - loss: 0.7456 - mae: 1.1486 - val_loss: 0.6736 - val_mae: 1.0757\n",
            "Epoch 97/100\n",
            "29/29 [==============================] - 2s 76ms/step - loss: 0.7448 - mae: 1.1477 - val_loss: 0.6731 - val_mae: 1.0752\n",
            "Epoch 98/100\n",
            "29/29 [==============================] - 3s 93ms/step - loss: 0.7440 - mae: 1.1468 - val_loss: 0.6726 - val_mae: 1.0746\n",
            "Epoch 99/100\n",
            "29/29 [==============================] - 4s 136ms/step - loss: 0.7433 - mae: 1.1459 - val_loss: 0.6722 - val_mae: 1.0741\n",
            "Epoch 100/100\n",
            "29/29 [==============================] - 3s 89ms/step - loss: 0.7425 - mae: 1.1450 - val_loss: 0.6717 - val_mae: 1.0736\n"
          ]
        }
      ]
    },
    {
      "cell_type": "code",
      "source": [
        "forecast = model_forecast(model, series[..., np.newaxis], window_size)"
      ],
      "metadata": {
        "id": "D3SiPbcpCntN",
        "colab": {
          "base_uri": "https://localhost:8080/"
        },
        "outputId": "771d6d63-ea05-45fd-e9a1-69101a482e35"
      },
      "execution_count": 19,
      "outputs": [
        {
          "output_type": "stream",
          "name": "stdout",
          "text": [
            "51/51 [==============================] - 2s 16ms/step\n"
          ]
        }
      ]
    },
    {
      "cell_type": "code",
      "source": [
        "forecast*=std\n",
        "forecast+=mean\n",
        "x_valid*=std\n",
        "x_valid+=mean"
      ],
      "metadata": {
        "id": "I3BitrvmO87X"
      },
      "execution_count": 20,
      "outputs": []
    },
    {
      "cell_type": "code",
      "source": [
        "len(forecast)"
      ],
      "metadata": {
        "colab": {
          "base_uri": "https://localhost:8080/"
        },
        "id": "4tKyU0l7x3E7",
        "outputId": "49552f9b-e935-4953-b4bd-dc64c47a10aa"
      },
      "execution_count": 21,
      "outputs": [
        {
          "output_type": "execute_result",
          "data": {
            "text/plain": [
              "610"
            ]
          },
          "metadata": {},
          "execution_count": 21
        }
      ]
    },
    {
      "cell_type": "code",
      "source": [
        "forecast = forecast[split_time-window_size+1:]"
      ],
      "metadata": {
        "id": "iYNg4MTyHeL2"
      },
      "execution_count": 22,
      "outputs": []
    },
    {
      "cell_type": "code",
      "source": [
        "forecast[0]"
      ],
      "metadata": {
        "colab": {
          "base_uri": "https://localhost:8080/"
        },
        "id": "wG01fuwcAsJX",
        "outputId": "8b6df843-20ce-409e-c510-5bc686c31055"
      },
      "execution_count": 23,
      "outputs": [
        {
          "output_type": "execute_result",
          "data": {
            "text/plain": [
              "array([26.887922], dtype=float32)"
            ]
          },
          "metadata": {},
          "execution_count": 23
        }
      ]
    },
    {
      "cell_type": "code",
      "source": [
        "results = np.array(forecast)[:, 0]"
      ],
      "metadata": {
        "id": "FlvJ3ME3HwLD"
      },
      "execution_count": 24,
      "outputs": []
    },
    {
      "cell_type": "code",
      "source": [
        "def plot_series(time, series, format=\"-\", start=0, end=None):\n",
        "  plt.plot(time[start:end], series[start:end], format)\n",
        "  plt.xlabel(\"Time\")\n",
        "  plt.ylabel(\"Value\")\n",
        "  plt.grid(True)"
      ],
      "metadata": {
        "id": "kphkegodIOFN"
      },
      "execution_count": 25,
      "outputs": []
    },
    {
      "cell_type": "code",
      "source": [
        "from matplotlib import pyplot as plt\n",
        "plt.figure(figsize=(10, 6))"
      ],
      "metadata": {
        "colab": {
          "base_uri": "https://localhost:8080/",
          "height": 52
        },
        "id": "funDcrcJJXJP",
        "outputId": "e4cd3dc0-9913-42d2-8a1c-1b5e13b312a4"
      },
      "execution_count": 26,
      "outputs": [
        {
          "output_type": "execute_result",
          "data": {
            "text/plain": [
              "<Figure size 1000x600 with 0 Axes>"
            ]
          },
          "metadata": {},
          "execution_count": 26
        },
        {
          "output_type": "display_data",
          "data": {
            "text/plain": [
              "<Figure size 1000x600 with 0 Axes>"
            ]
          },
          "metadata": {}
        }
      ]
    },
    {
      "cell_type": "code",
      "source": [
        "plot_series(time_valid, x_valid)\n",
        "plot_series(time_valid, results)"
      ],
      "metadata": {
        "colab": {
          "base_uri": "https://localhost:8080/",
          "height": 449
        },
        "id": "DtEnfeWCKpSG",
        "outputId": "4446d517-1d82-4bc2-bf3e-09eb1d16a8dd"
      },
      "execution_count": 27,
      "outputs": [
        {
          "output_type": "display_data",
          "data": {
            "text/plain": [
              "<Figure size 640x480 with 1 Axes>"
            ],
            "image/png": "[encoded data removed]"
          },
          "metadata": {}
        }
      ]
    },
    {
      "cell_type": "code",
      "source": [
        "len(time_valid)"
      ],
      "metadata": {
        "colab": {
          "base_uri": "https://localhost:8080/"
        },
        "id": "a3Uti9zvLv_9",
        "outputId": "d900e2b9-78b8-412f-9d37-37d55dc4ea9c"
      },
      "execution_count": 28,
      "outputs": [
        {
          "output_type": "execute_result",
          "data": {
            "text/plain": [
              "267"
            ]
          },
          "metadata": {},
          "execution_count": 28
        }
      ]
    },
    {
      "cell_type": "code",
      "source": [
        "print(tf.keras.metrics.mean_squared_error(x_valid, results).numpy())\n",
        "print(tf.keras.metrics.mean_absolute_error(x_valid, results).numpy())"
      ],
      "metadata": {
        "id": "lXdZwpLzOOH4",
        "colab": {
          "base_uri": "https://localhost:8080/"
        },
        "outputId": "94c02edc-a41e-4891-dd45-106a8681c06c"
      },
      "execution_count": 29,
      "outputs": [
        {
          "output_type": "stream",
          "name": "stdout",
          "text": [
            "8.019879\n",
            "2.4307353\n"
          ]
        }
      ]
    },
    {
      "cell_type": "code",
      "source": [
        "model.save('./drive/MyDrive/timeseries_tuned.h5')"
      ],
      "metadata": {
        "id": "fXA2gI0ezZZd"
      },
      "execution_count": 30,
      "outputs": []
    },
    {
      "cell_type": "code",
      "source": [
        "model = tf.keras.models.load_model('./drive/MyDrive/timeseries_tuned.h5')"
      ],
      "metadata": {
        "id": "2a2fnsnu5FVV"
      },
      "execution_count": 31,
      "outputs": []
    },
    {
      "cell_type": "code",
      "source": [
        "from google.colab import drive\n",
        "#drive.flush_and_unmount()\n",
        "drive.mount('/content/drive')"
      ],
      "metadata": {
        "colab": {
          "base_uri": "https://localhost:8080/"
        },
        "id": "L1Ply3ql3zWQ",
        "outputId": "ceaa2e5a-66c7-41ec-c734-b00adabe98bc"
      },
      "execution_count": 32,
      "outputs": [
        {
          "output_type": "stream",
          "name": "stdout",
          "text": [
            "Drive already mounted at /content/drive; to attempt to forcibly remount, call drive.mount(\"/content/drive\", force_remount=True).\n"
          ]
        }
      ]
    },
    {
      "cell_type": "markdown",
      "source": [],
      "metadata": {
        "id": "u_ItpNvf_Afw"
      }
    }
  ]
}