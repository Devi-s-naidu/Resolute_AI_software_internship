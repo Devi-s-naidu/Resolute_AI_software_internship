{
  "nbformat": 4,
  "nbformat_minor": 0,
  "metadata": {
    "colab": {
      "provenance": [],
      "include_colab_link": true
    },
    "kernelspec": {
      "name": "python3",
      "display_name": "Python 3"
    },
    "language_info": {
      "name": "python"
    },
    "gpuClass": "standard"
  },
  "cells": [
    {
      "cell_type": "markdown",
      "metadata": {
        "id": "view-in-github",
        "colab_type": "text"
      },
      "source": [
        "<a href=\"https://colab.research.google.com/github/Devi-s-naidu/Resolute_AI_software_internship/blob/main/timeseries_(1).ipynb\" target=\"_parent\"><img src=\"https://colab.research.google.com/assets/colab-badge.svg\" alt=\"Open In Colab\"/></a>"
      ]
    },
    {
      "cell_type": "code",
      "execution_count": 5,
      "metadata": {
        "id": "RXcsJ1oblDV8"
      },
      "outputs": [],
      "source": [
        "import tensorflow as tf\n",
        "import numpy as np\n",
        "import os\n",
        "import matplotlib as plt"
      ]
    },
    {
      "cell_type": "code",
      "source": [
        "def get_data():\n",
        "  data_file = \"/content/station.csv\"\n",
        "  f = open(data_file)\n",
        "  data = f.read()\n",
        "  f.close()\n",
        "  lines = data.split('\\n')\n",
        "  header = lines[0].split(',')\n",
        "  lines = lines[2:]\n",
        "  temperatures=[]\n",
        "  for line in lines:\n",
        "    if line:\n",
        "      linedata = line.split(',')\n",
        "      linedata = linedata[1:13]\n",
        "      for item in linedata:\n",
        "        if item:\n",
        "          temperatures.append(float(item))\n",
        "  series = np.asarray(temperatures)\n",
        "  time = np.arange(len(temperatures), dtype=\"float32\")\n",
        "  return time, series"
      ],
      "metadata": {
        "id": "MXV4pwVLpVg3"
      },
      "execution_count": 6,
      "outputs": []
    },
    {
      "cell_type": "code",
      "source": [
        "time, series = get_data()"
      ],
      "metadata": {
        "id": "70vtRA6gqXza"
      },
      "execution_count": 7,
      "outputs": []
    },
    {
      "cell_type": "code",
      "source": [
        "from google.colab import drive\n",
        "drive.mount('/content/drive')"
      ],
      "metadata": {
        "id": "Rnf7CeGrR4Dx",
        "colab": {
          "base_uri": "https://localhost:8080/"
        },
        "outputId": "3a7535d9-5694-4173-b3e6-21c937154375"
      },
      "execution_count": 1,
      "outputs": [
        {
          "output_type": "stream",
          "name": "stdout",
          "text": [
            "Mounted at /content/drive\n"
          ]
        }
      ]
    },
    {
      "cell_type": "code",
      "source": [
        "out = np.logical_not(series > 200)\n",
        "series=series[out]\n",
        "time=time[out]"
      ],
      "metadata": {
        "id": "2kNMHkkqYGv4"
      },
      "execution_count": 8,
      "outputs": []
    },
    {
      "cell_type": "code",
      "source": [
        "len(series)"
      ],
      "metadata": {
        "colab": {
          "base_uri": "https://localhost:8080/"
        },
        "id": "KjvpWj3Nq-5W",
        "outputId": "84e23d93-4cb2-46ba-f4f6-5dad4f7cef60"
      },
      "execution_count": 9,
      "outputs": [
        {
          "output_type": "execute_result",
          "data": {
            "text/plain": [
              "657"
            ]
          },
          "metadata": {},
          "execution_count": 9
        }
      ]
    },
    {
      "cell_type": "code",
      "source": [
        "mean = series.mean(axis=0)\n",
        "series-=mean\n",
        "std = series.std(axis=0)\n",
        "series/=std"
      ],
      "metadata": {
        "id": "6x3i1uvzsB8i"
      },
      "execution_count": 10,
      "outputs": []
    },
    {
      "cell_type": "code",
      "source": [
        "#device_name = tf.test.gpu_device_name()"
      ],
      "metadata": {
        "id": "EuAv2tUvuXt-"
      },
      "execution_count": 11,
      "outputs": []
    },
    {
      "cell_type": "code",
      "source": [
        "split_time = 390\n",
        "time_train = time[:split_time]\n",
        "x_train = series[:split_time]\n",
        "time_valid = time[split_time:]\n",
        "x_valid = series[split_time:]"
      ],
      "metadata": {
        "id": "xzcH5rGJuyu7"
      },
      "execution_count": 12,
      "outputs": []
    },
    {
      "cell_type": "code",
      "source": [
        "window_size = 48\n",
        "batch_size = 12\n",
        "shuffle_buffer_size = 96"
      ],
      "metadata": {
        "id": "QbcwopqA0rTf"
      },
      "execution_count": 13,
      "outputs": []
    },
    {
      "cell_type": "code",
      "source": [
        "def windowed_dataset(series, window_size,\n",
        "batch_size, shuffle_buffer):\n",
        "  series = tf.expand_dims(series, axis=-1)\n",
        "  dataset = tf.data.Dataset.from_tensor_slices(series)\n",
        "  dataset = dataset.window(window_size + 1, shift=1,\n",
        "  drop_remainder=True)\n",
        "  dataset = dataset.flat_map(lambda window:window.batch(window_size + 1))\n",
        "  dataset = dataset.shuffle(shuffle_buffer).map(lambda window:(window[:-1], window[-1]))\n",
        "  dataset = dataset.batch(batch_size).prefetch(1)\n",
        "  return dataset"
      ],
      "metadata": {
        "id": "C4Xb8LbI14IN"
      },
      "execution_count": 14,
      "outputs": []
    },
    {
      "cell_type": "code",
      "source": [
        "dataset = windowed_dataset(x_train, window_size, batch_size, shuffle_buffer_size)"
      ],
      "metadata": {
        "id": "snIuU0xF2Hql"
      },
      "execution_count": 15,
      "outputs": []
    },
    {
      "cell_type": "code",
      "source": [
        "valid_dataset = windowed_dataset(x_valid, window_size, batch_size, shuffle_buffer_size)"
      ],
      "metadata": {
        "id": "WQdbJu3e27DX"
      },
      "execution_count": 16,
      "outputs": []
    },
    {
      "cell_type": "code",
      "source": [
        "initializer=tf.keras.initializers.RandomNormal(mean=0., stddev=1.)"
      ],
      "metadata": {
        "id": "7n-PzlO5DlQb"
      },
      "execution_count": 17,
      "outputs": []
    },
    {
      "cell_type": "code",
      "source": [
        "def model_forecast(model, series, window_size):\n",
        "  series = tf.expand_dims(series, axis=-1)\n",
        "  ds = tf.data.Dataset.from_tensor_slices(series)\n",
        "  ds = ds.window(window_size, shift=1, drop_remainder=True)\n",
        "  ds = ds.flat_map(lambda w: w.batch(window_size))\n",
        "  ds = ds.batch(12).prefetch(1)\n",
        "  forecast = model.predict(ds)\n",
        "  return forecast"
      ],
      "metadata": {
        "id": "1xMegkn7BbjB"
      },
      "execution_count": 18,
      "outputs": []
    },
    {
      "cell_type": "code",
      "source": [
        "model = tf.keras.models.Sequential([\n",
        "tf.keras.layers.GRU(100, input_shape=[None, 1], return_sequences=True, kernel_initializer=initializer),\n",
        "tf.keras.layers.GRU(units=100, kernel_initializer=initializer),\n",
        "tf.keras.layers.Dense(1),\n",
        "])\n",
        "model.compile(loss=tf.keras.losses.Huber(), optimizer=tf.keras.optimizers.SGD(learning_rate = 1.5e-6, momentum = 0.5),\n",
        "              metrics=['mae'])"
      ],
      "metadata": {
        "id": "Svkpfw6X-UhE",
        "colab": {
          "base_uri": "https://localhost:8080/"
        },
        "outputId": "272a9761-7b3e-4628-d225-5c63f077c228"
      },
      "execution_count": 19,
      "outputs": [
        {
          "output_type": "stream",
          "name": "stderr",
          "text": [
            "/usr/local/lib/python3.10/dist-packages/keras/initializers/initializers.py:120: UserWarning: The initializer RandomNormal is unseeded and being called multiple times, which will return identical values each time (even if the initializer is unseeded). Please update your code to provide a seed to the initializer, or avoid using the same initalizer instance more than once.\n",
            "  warnings.warn(\n"
          ]
        }
      ]
    },
    {
      "cell_type": "code",
      "source": [
        "history = model.fit(dataset, epochs=100, verbose=1, validation_data=valid_dataset)"
      ],
      "metadata": {
        "colab": {
          "base_uri": "https://localhost:8080/"
        },
        "id": "oBHTAOCc_roR",
        "outputId": "ea6c3f29-7226-4932-d56f-b34c304d24a7"
      },
      "execution_count": 20,
      "outputs": [
        {
          "output_type": "stream",
          "name": "stdout",
          "text": [
            "Epoch 1/100\n",
            "29/29 [==============================] - 9s 124ms/step - loss: 2.2067 - mae: 2.6871 - val_loss: 2.5888 - val_mae: 3.0826\n",
            "Epoch 2/100\n",
            "29/29 [==============================] - 2s 76ms/step - loss: 2.2004 - mae: 2.6807 - val_loss: 2.5825 - val_mae: 3.0761\n",
            "Epoch 3/100\n",
            "29/29 [==============================] - 3s 104ms/step - loss: 2.1942 - mae: 2.6742 - val_loss: 2.5761 - val_mae: 3.0697\n",
            "Epoch 4/100\n",
            "29/29 [==============================] - 2s 76ms/step - loss: 2.1880 - mae: 2.6678 - val_loss: 2.5698 - val_mae: 3.0633\n",
            "Epoch 5/100\n",
            "29/29 [==============================] - 2s 77ms/step - loss: 2.1818 - mae: 2.6614 - val_loss: 2.5635 - val_mae: 3.0568\n",
            "Epoch 6/100\n",
            "29/29 [==============================] - 2s 74ms/step - loss: 2.1756 - mae: 2.6550 - val_loss: 2.5572 - val_mae: 3.0504\n",
            "Epoch 7/100\n",
            "29/29 [==============================] - 3s 87ms/step - loss: 2.1694 - mae: 2.6486 - val_loss: 2.5509 - val_mae: 3.0440\n",
            "Epoch 8/100\n",
            "29/29 [==============================] - 3s 119ms/step - loss: 2.1632 - mae: 2.6421 - val_loss: 2.5446 - val_mae: 3.0376\n",
            "Epoch 9/100\n",
            "29/29 [==============================] - 2s 77ms/step - loss: 2.1570 - mae: 2.6358 - val_loss: 2.5383 - val_mae: 3.0313\n",
            "Epoch 10/100\n",
            "29/29 [==============================] - 2s 73ms/step - loss: 2.1509 - mae: 2.6293 - val_loss: 2.5320 - val_mae: 3.0249\n",
            "Epoch 11/100\n",
            "29/29 [==============================] - 2s 73ms/step - loss: 2.1447 - mae: 2.6229 - val_loss: 2.5258 - val_mae: 3.0186\n",
            "Epoch 12/100\n",
            "29/29 [==============================] - 2s 74ms/step - loss: 2.1385 - mae: 2.6165 - val_loss: 2.5195 - val_mae: 3.0122\n",
            "Epoch 13/100\n",
            "29/29 [==============================] - 3s 91ms/step - loss: 2.1324 - mae: 2.6101 - val_loss: 2.5132 - val_mae: 3.0059\n",
            "Epoch 14/100\n",
            "29/29 [==============================] - 4s 121ms/step - loss: 2.1262 - mae: 2.6037 - val_loss: 2.5070 - val_mae: 2.9996\n",
            "Epoch 15/100\n",
            "29/29 [==============================] - 2s 76ms/step - loss: 2.1201 - mae: 2.5974 - val_loss: 2.5007 - val_mae: 2.9932\n",
            "Epoch 16/100\n",
            "29/29 [==============================] - 3s 95ms/step - loss: 2.1139 - mae: 2.5910 - val_loss: 2.4944 - val_mae: 2.9869\n",
            "Epoch 17/100\n",
            "29/29 [==============================] - 3s 112ms/step - loss: 2.1078 - mae: 2.5846 - val_loss: 2.4882 - val_mae: 2.9805\n",
            "Epoch 18/100\n",
            "29/29 [==============================] - 2s 79ms/step - loss: 2.1017 - mae: 2.5782 - val_loss: 2.4819 - val_mae: 2.9742\n",
            "Epoch 19/100\n",
            "29/29 [==============================] - 2s 73ms/step - loss: 2.0955 - mae: 2.5719 - val_loss: 2.4757 - val_mae: 2.9679\n",
            "Epoch 20/100\n",
            "29/29 [==============================] - 2s 74ms/step - loss: 2.0894 - mae: 2.5656 - val_loss: 2.4694 - val_mae: 2.9616\n",
            "Epoch 21/100\n",
            "29/29 [==============================] - 2s 75ms/step - loss: 2.0833 - mae: 2.5593 - val_loss: 2.4632 - val_mae: 2.9553\n",
            "Epoch 22/100\n",
            "29/29 [==============================] - 3s 114ms/step - loss: 2.0772 - mae: 2.5530 - val_loss: 2.4570 - val_mae: 2.9490\n",
            "Epoch 23/100\n",
            "29/29 [==============================] - 2s 72ms/step - loss: 2.0711 - mae: 2.5467 - val_loss: 2.4507 - val_mae: 2.9426\n",
            "Epoch 24/100\n",
            "29/29 [==============================] - 2s 74ms/step - loss: 2.0651 - mae: 2.5405 - val_loss: 2.4445 - val_mae: 2.9363\n",
            "Epoch 25/100\n",
            "29/29 [==============================] - 2s 76ms/step - loss: 2.0590 - mae: 2.5342 - val_loss: 2.4383 - val_mae: 2.9301\n",
            "Epoch 26/100\n",
            "29/29 [==============================] - 2s 72ms/step - loss: 2.0529 - mae: 2.5280 - val_loss: 2.4321 - val_mae: 2.9238\n",
            "Epoch 27/100\n",
            "29/29 [==============================] - 4s 125ms/step - loss: 2.0469 - mae: 2.5218 - val_loss: 2.4260 - val_mae: 2.9175\n",
            "Epoch 28/100\n",
            "29/29 [==============================] - 2s 80ms/step - loss: 2.0408 - mae: 2.5155 - val_loss: 2.4198 - val_mae: 2.9112\n",
            "Epoch 29/100\n",
            "29/29 [==============================] - 2s 77ms/step - loss: 2.0348 - mae: 2.5093 - val_loss: 2.4136 - val_mae: 2.9049\n",
            "Epoch 30/100\n",
            "29/29 [==============================] - 2s 72ms/step - loss: 2.0287 - mae: 2.5031 - val_loss: 2.4074 - val_mae: 2.8986\n",
            "Epoch 31/100\n",
            "29/29 [==============================] - 2s 73ms/step - loss: 2.0227 - mae: 2.4969 - val_loss: 2.4013 - val_mae: 2.8924\n",
            "Epoch 32/100\n",
            "29/29 [==============================] - 3s 105ms/step - loss: 2.0167 - mae: 2.4907 - val_loss: 2.3951 - val_mae: 2.8861\n",
            "Epoch 33/100\n",
            "29/29 [==============================] - 2s 76ms/step - loss: 2.0107 - mae: 2.4845 - val_loss: 2.3889 - val_mae: 2.8798\n",
            "Epoch 34/100\n",
            "29/29 [==============================] - 2s 71ms/step - loss: 2.0047 - mae: 2.4784 - val_loss: 2.3828 - val_mae: 2.8736\n",
            "Epoch 35/100\n",
            "29/29 [==============================] - 2s 72ms/step - loss: 1.9987 - mae: 2.4722 - val_loss: 2.3766 - val_mae: 2.8673\n",
            "Epoch 36/100\n",
            "29/29 [==============================] - 2s 77ms/step - loss: 1.9927 - mae: 2.4660 - val_loss: 2.3705 - val_mae: 2.8611\n",
            "Epoch 37/100\n",
            "29/29 [==============================] - 4s 133ms/step - loss: 1.9867 - mae: 2.4598 - val_loss: 2.3644 - val_mae: 2.8548\n",
            "Epoch 38/100\n",
            "29/29 [==============================] - 2s 76ms/step - loss: 1.9807 - mae: 2.4537 - val_loss: 2.3583 - val_mae: 2.8486\n",
            "Epoch 39/100\n",
            "29/29 [==============================] - 2s 81ms/step - loss: 1.9748 - mae: 2.4475 - val_loss: 2.3522 - val_mae: 2.8423\n",
            "Epoch 40/100\n",
            "29/29 [==============================] - 2s 79ms/step - loss: 1.9688 - mae: 2.4414 - val_loss: 2.3461 - val_mae: 2.8361\n",
            "Epoch 41/100\n",
            "29/29 [==============================] - 2s 74ms/step - loss: 1.9629 - mae: 2.4353 - val_loss: 2.3400 - val_mae: 2.8299\n",
            "Epoch 42/100\n",
            "29/29 [==============================] - 3s 121ms/step - loss: 1.9569 - mae: 2.4291 - val_loss: 2.3339 - val_mae: 2.8237\n",
            "Epoch 43/100\n",
            "29/29 [==============================] - 2s 74ms/step - loss: 1.9510 - mae: 2.4230 - val_loss: 2.3278 - val_mae: 2.8174\n",
            "Epoch 44/100\n",
            "29/29 [==============================] - 2s 83ms/step - loss: 1.9451 - mae: 2.4168 - val_loss: 2.3217 - val_mae: 2.8112\n",
            "Epoch 45/100\n",
            "29/29 [==============================] - 2s 76ms/step - loss: 1.9391 - mae: 2.4107 - val_loss: 2.3157 - val_mae: 2.8050\n",
            "Epoch 46/100\n",
            "29/29 [==============================] - 2s 77ms/step - loss: 1.9332 - mae: 2.4046 - val_loss: 2.3096 - val_mae: 2.7988\n",
            "Epoch 47/100\n",
            "29/29 [==============================] - 4s 129ms/step - loss: 1.9274 - mae: 2.3986 - val_loss: 2.3036 - val_mae: 2.7927\n",
            "Epoch 48/100\n",
            "29/29 [==============================] - 2s 73ms/step - loss: 1.9215 - mae: 2.3925 - val_loss: 2.2976 - val_mae: 2.7866\n",
            "Epoch 49/100\n",
            "29/29 [==============================] - 2s 73ms/step - loss: 1.9156 - mae: 2.3864 - val_loss: 2.2916 - val_mae: 2.7804\n",
            "Epoch 50/100\n",
            "29/29 [==============================] - 4s 127ms/step - loss: 1.9097 - mae: 2.3803 - val_loss: 2.2855 - val_mae: 2.7743\n",
            "Epoch 51/100\n",
            "29/29 [==============================] - 4s 131ms/step - loss: 1.9039 - mae: 2.3743 - val_loss: 2.2795 - val_mae: 2.7681\n",
            "Epoch 52/100\n",
            "29/29 [==============================] - 2s 76ms/step - loss: 1.8980 - mae: 2.3682 - val_loss: 2.2735 - val_mae: 2.7620\n",
            "Epoch 53/100\n",
            "29/29 [==============================] - 2s 73ms/step - loss: 1.8921 - mae: 2.3622 - val_loss: 2.2675 - val_mae: 2.7559\n",
            "Epoch 54/100\n",
            "29/29 [==============================] - 2s 81ms/step - loss: 1.8863 - mae: 2.3561 - val_loss: 2.2615 - val_mae: 2.7498\n",
            "Epoch 55/100\n",
            "29/29 [==============================] - 2s 74ms/step - loss: 1.8805 - mae: 2.3500 - val_loss: 2.2556 - val_mae: 2.7437\n",
            "Epoch 56/100\n",
            "29/29 [==============================] - 4s 125ms/step - loss: 1.8746 - mae: 2.3440 - val_loss: 2.2496 - val_mae: 2.7376\n",
            "Epoch 57/100\n",
            "29/29 [==============================] - 2s 77ms/step - loss: 1.8688 - mae: 2.3380 - val_loss: 2.2436 - val_mae: 2.7315\n",
            "Epoch 58/100\n",
            "29/29 [==============================] - 2s 72ms/step - loss: 1.8630 - mae: 2.3319 - val_loss: 2.2377 - val_mae: 2.7254\n",
            "Epoch 59/100\n",
            "29/29 [==============================] - 2s 77ms/step - loss: 1.8572 - mae: 2.3259 - val_loss: 2.2317 - val_mae: 2.7193\n",
            "Epoch 60/100\n",
            "29/29 [==============================] - 3s 91ms/step - loss: 1.8514 - mae: 2.3198 - val_loss: 2.2258 - val_mae: 2.7132\n",
            "Epoch 61/100\n",
            "29/29 [==============================] - 4s 122ms/step - loss: 1.8456 - mae: 2.3139 - val_loss: 2.2199 - val_mae: 2.7071\n",
            "Epoch 62/100\n",
            "29/29 [==============================] - 2s 76ms/step - loss: 1.8399 - mae: 2.3079 - val_loss: 2.2140 - val_mae: 2.7010\n",
            "Epoch 63/100\n",
            "29/29 [==============================] - 2s 72ms/step - loss: 1.8341 - mae: 2.3019 - val_loss: 2.2081 - val_mae: 2.6950\n",
            "Epoch 64/100\n",
            "29/29 [==============================] - 2s 77ms/step - loss: 1.8283 - mae: 2.2959 - val_loss: 2.2022 - val_mae: 2.6889\n",
            "Epoch 65/100\n",
            "29/29 [==============================] - 3s 96ms/step - loss: 1.8226 - mae: 2.2899 - val_loss: 2.1963 - val_mae: 2.6828\n",
            "Epoch 66/100\n",
            "29/29 [==============================] - 2s 77ms/step - loss: 1.8168 - mae: 2.2839 - val_loss: 2.1904 - val_mae: 2.6768\n",
            "Epoch 67/100\n",
            "29/29 [==============================] - 2s 74ms/step - loss: 1.8111 - mae: 2.2779 - val_loss: 2.1845 - val_mae: 2.6708\n",
            "Epoch 68/100\n",
            "29/29 [==============================] - 2s 73ms/step - loss: 1.8054 - mae: 2.2719 - val_loss: 2.1787 - val_mae: 2.6648\n",
            "Epoch 69/100\n",
            "29/29 [==============================] - 2s 76ms/step - loss: 1.7997 - mae: 2.2660 - val_loss: 2.1728 - val_mae: 2.6588\n",
            "Epoch 70/100\n",
            "29/29 [==============================] - 4s 125ms/step - loss: 1.7940 - mae: 2.2600 - val_loss: 2.1669 - val_mae: 2.6528\n",
            "Epoch 71/100\n",
            "29/29 [==============================] - 2s 81ms/step - loss: 1.7883 - mae: 2.2541 - val_loss: 2.1611 - val_mae: 2.6468\n",
            "Epoch 72/100\n",
            "29/29 [==============================] - 2s 74ms/step - loss: 1.7826 - mae: 2.2481 - val_loss: 2.1553 - val_mae: 2.6409\n",
            "Epoch 73/100\n",
            "29/29 [==============================] - 2s 73ms/step - loss: 1.7769 - mae: 2.2421 - val_loss: 2.1494 - val_mae: 2.6350\n",
            "Epoch 74/100\n",
            "29/29 [==============================] - 2s 73ms/step - loss: 1.7713 - mae: 2.2362 - val_loss: 2.1437 - val_mae: 2.6292\n",
            "Epoch 75/100\n",
            "29/29 [==============================] - 2s 85ms/step - loss: 1.7657 - mae: 2.2303 - val_loss: 2.1379 - val_mae: 2.6233\n",
            "Epoch 76/100\n",
            "29/29 [==============================] - 3s 119ms/step - loss: 1.7600 - mae: 2.2244 - val_loss: 2.1321 - val_mae: 2.6174\n",
            "Epoch 77/100\n",
            "29/29 [==============================] - 2s 75ms/step - loss: 1.7544 - mae: 2.2184 - val_loss: 2.1263 - val_mae: 2.6116\n",
            "Epoch 78/100\n",
            "29/29 [==============================] - 2s 73ms/step - loss: 1.7488 - mae: 2.2125 - val_loss: 2.1205 - val_mae: 2.6057\n",
            "Epoch 79/100\n",
            "29/29 [==============================] - 2s 74ms/step - loss: 1.7432 - mae: 2.2066 - val_loss: 2.1148 - val_mae: 2.5999\n",
            "Epoch 80/100\n",
            "29/29 [==============================] - 2s 83ms/step - loss: 1.7376 - mae: 2.2007 - val_loss: 2.1090 - val_mae: 2.5941\n",
            "Epoch 81/100\n",
            "29/29 [==============================] - 4s 124ms/step - loss: 1.7320 - mae: 2.1948 - val_loss: 2.1033 - val_mae: 2.5883\n",
            "Epoch 82/100\n",
            "29/29 [==============================] - 2s 78ms/step - loss: 1.7265 - mae: 2.1888 - val_loss: 2.0976 - val_mae: 2.5825\n",
            "Epoch 83/100\n",
            "29/29 [==============================] - 2s 73ms/step - loss: 1.7209 - mae: 2.1830 - val_loss: 2.0919 - val_mae: 2.5767\n",
            "Epoch 84/100\n",
            "29/29 [==============================] - 2s 77ms/step - loss: 1.7153 - mae: 2.1772 - val_loss: 2.0862 - val_mae: 2.5709\n",
            "Epoch 85/100\n",
            "29/29 [==============================] - 3s 102ms/step - loss: 1.7098 - mae: 2.1714 - val_loss: 2.0805 - val_mae: 2.5651\n",
            "Epoch 86/100\n",
            "29/29 [==============================] - 2s 76ms/step - loss: 1.7043 - mae: 2.1656 - val_loss: 2.0748 - val_mae: 2.5593\n",
            "Epoch 87/100\n",
            "29/29 [==============================] - 2s 78ms/step - loss: 1.6988 - mae: 2.1598 - val_loss: 2.0691 - val_mae: 2.5536\n",
            "Epoch 88/100\n",
            "29/29 [==============================] - 2s 76ms/step - loss: 1.6932 - mae: 2.1540 - val_loss: 2.0635 - val_mae: 2.5478\n",
            "Epoch 89/100\n",
            "29/29 [==============================] - 2s 82ms/step - loss: 1.6877 - mae: 2.1482 - val_loss: 2.0578 - val_mae: 2.5420\n",
            "Epoch 90/100\n",
            "29/29 [==============================] - 4s 125ms/step - loss: 1.6822 - mae: 2.1423 - val_loss: 2.0521 - val_mae: 2.5362\n",
            "Epoch 91/100\n",
            "29/29 [==============================] - 2s 82ms/step - loss: 1.6767 - mae: 2.1366 - val_loss: 2.0465 - val_mae: 2.5305\n",
            "Epoch 92/100\n",
            "29/29 [==============================] - 2s 73ms/step - loss: 1.6713 - mae: 2.1308 - val_loss: 2.0409 - val_mae: 2.5247\n",
            "Epoch 93/100\n",
            "29/29 [==============================] - 2s 72ms/step - loss: 1.6658 - mae: 2.1250 - val_loss: 2.0353 - val_mae: 2.5190\n",
            "Epoch 94/100\n",
            "29/29 [==============================] - 3s 88ms/step - loss: 1.6603 - mae: 2.1193 - val_loss: 2.0296 - val_mae: 2.5132\n",
            "Epoch 95/100\n",
            "29/29 [==============================] - 2s 78ms/step - loss: 1.6549 - mae: 2.1135 - val_loss: 2.0241 - val_mae: 2.5075\n",
            "Epoch 96/100\n",
            "29/29 [==============================] - 2s 77ms/step - loss: 1.6495 - mae: 2.1078 - val_loss: 2.0185 - val_mae: 2.5018\n",
            "Epoch 97/100\n",
            "29/29 [==============================] - 2s 78ms/step - loss: 1.6440 - mae: 2.1020 - val_loss: 2.0129 - val_mae: 2.4961\n",
            "Epoch 98/100\n",
            "29/29 [==============================] - 2s 73ms/step - loss: 1.6386 - mae: 2.0963 - val_loss: 2.0073 - val_mae: 2.4903\n",
            "Epoch 99/100\n",
            "29/29 [==============================] - 4s 128ms/step - loss: 1.6332 - mae: 2.0907 - val_loss: 2.0018 - val_mae: 2.4847\n",
            "Epoch 100/100\n",
            "29/29 [==============================] - 2s 77ms/step - loss: 1.6279 - mae: 2.0851 - val_loss: 1.9962 - val_mae: 2.4790\n"
          ]
        }
      ]
    },
    {
      "cell_type": "code",
      "source": [
        "forecast = model_forecast(model, series[..., np.newaxis], window_size)"
      ],
      "metadata": {
        "id": "D3SiPbcpCntN",
        "colab": {
          "base_uri": "https://localhost:8080/"
        },
        "outputId": "446b1c9b-f272-401c-b139-39bc718cad75"
      },
      "execution_count": 21,
      "outputs": [
        {
          "output_type": "stream",
          "name": "stdout",
          "text": [
            "51/51 [==============================] - 2s 21ms/step\n"
          ]
        }
      ]
    },
    {
      "cell_type": "code",
      "source": [
        "forecast*=std\n",
        "forecast+=mean\n",
        "x_valid*=std\n",
        "x_valid+=mean"
      ],
      "metadata": {
        "id": "I3BitrvmO87X"
      },
      "execution_count": 22,
      "outputs": []
    },
    {
      "cell_type": "code",
      "source": [
        "len(forecast)"
      ],
      "metadata": {
        "colab": {
          "base_uri": "https://localhost:8080/"
        },
        "id": "4tKyU0l7x3E7",
        "outputId": "2de13a41-03ca-41e0-b8d1-9f894c14b4b1"
      },
      "execution_count": 23,
      "outputs": [
        {
          "output_type": "execute_result",
          "data": {
            "text/plain": [
              "610"
            ]
          },
          "metadata": {},
          "execution_count": 23
        }
      ]
    },
    {
      "cell_type": "code",
      "source": [
        "forecast = forecast[split_time-window_size+1:]"
      ],
      "metadata": {
        "id": "iYNg4MTyHeL2"
      },
      "execution_count": 24,
      "outputs": []
    },
    {
      "cell_type": "code",
      "source": [
        "forecast[0]"
      ],
      "metadata": {
        "colab": {
          "base_uri": "https://localhost:8080/"
        },
        "id": "wG01fuwcAsJX",
        "outputId": "d9336c32-e7e2-4104-bd95-39dea05a24bf"
      },
      "execution_count": 25,
      "outputs": [
        {
          "output_type": "execute_result",
          "data": {
            "text/plain": [
              "array([22.614235], dtype=float32)"
            ]
          },
          "metadata": {},
          "execution_count": 25
        }
      ]
    },
    {
      "cell_type": "code",
      "source": [
        "results = np.array(forecast)[:, 0]"
      ],
      "metadata": {
        "id": "FlvJ3ME3HwLD"
      },
      "execution_count": 26,
      "outputs": []
    },
    {
      "cell_type": "code",
      "source": [
        "def plot_series(time, series, format=\"-\", start=0, end=None):\n",
        "  plt.plot(time[start:end], series[start:end], format)\n",
        "  plt.xlabel(\"Time\")\n",
        "  plt.ylabel(\"Value\")\n",
        "  plt.grid(True)"
      ],
      "metadata": {
        "id": "kphkegodIOFN"
      },
      "execution_count": 27,
      "outputs": []
    },
    {
      "cell_type": "code",
      "source": [
        "from matplotlib import pyplot as plt\n",
        "plt.figure(figsize=(10, 6))"
      ],
      "metadata": {
        "colab": {
          "base_uri": "https://localhost:8080/",
          "height": 52
        },
        "id": "funDcrcJJXJP",
        "outputId": "a5395e45-5112-4300-9e4f-4d679b365291"
      },
      "execution_count": 28,
      "outputs": [
        {
          "output_type": "execute_result",
          "data": {
            "text/plain": [
              "<Figure size 1000x600 with 0 Axes>"
            ]
          },
          "metadata": {},
          "execution_count": 28
        },
        {
          "output_type": "display_data",
          "data": {
            "text/plain": [
              "<Figure size 1000x600 with 0 Axes>"
            ]
          },
          "metadata": {}
        }
      ]
    },
    {
      "cell_type": "code",
      "source": [
        "plot_series(time_valid, x_valid)\n",
        "plot_series(time_valid, results)"
      ],
      "metadata": {
        "colab": {
          "base_uri": "https://localhost:8080/",
          "height": 449
        },
        "id": "DtEnfeWCKpSG",
        "outputId": "6f76652b-7bd5-4e91-9170-4a1e5cf1897c"
      },
      "execution_count": 29,
      "outputs": [
        {
          "output_type": "display_data",
          "data": {
            "text/plain": [
              "<Figure size 640x480 with 1 Axes>"
            ],
            "image/png": "[encoded data removed]"
          },
          "metadata": {}
        }
      ]
    },
    {
      "cell_type": "code",
      "source": [
        "len(time_valid)"
      ],
      "metadata": {
        "colab": {
          "base_uri": "https://localhost:8080/"
        },
        "id": "a3Uti9zvLv_9",
        "outputId": "c4247564-198e-443b-bb16-a5c9a5b23543"
      },
      "execution_count": 30,
      "outputs": [
        {
          "output_type": "execute_result",
          "data": {
            "text/plain": [
              "267"
            ]
          },
          "metadata": {},
          "execution_count": 30
        }
      ]
    },
    {
      "cell_type": "code",
      "source": [
        "print(tf.keras.metrics.mean_squared_error(x_valid, results).numpy())\n",
        "print(tf.keras.metrics.mean_absolute_error(x_valid, results).numpy())"
      ],
      "metadata": {
        "id": "lXdZwpLzOOH4",
        "colab": {
          "base_uri": "https://localhost:8080/"
        },
        "outputId": "b46dd09d-b08f-444c-84cd-46ad18767471"
      },
      "execution_count": 31,
      "outputs": [
        {
          "output_type": "stream",
          "name": "stdout",
          "text": [
            "26.844015\n",
            "4.6808133\n"
          ]
        }
      ]
    },
    {
      "cell_type": "code",
      "source": [
        "model.save('./drive/MyDrive/timeseries_tuned.h5')"
      ],
      "metadata": {
        "id": "fXA2gI0ezZZd"
      },
      "execution_count": 32,
      "outputs": []
    },
    {
      "cell_type": "code",
      "source": [
        "model = tf.keras.models.load_model('./drive/MyDrive/timeseries_tuned.h5')"
      ],
      "metadata": {
        "id": "2a2fnsnu5FVV"
      },
      "execution_count": 33,
      "outputs": []
    },
    {
      "cell_type": "code",
      "source": [
        "from google.colab import drive\n",
        "#drive.flush_and_unmount()\n",
        "drive.mount('/content/drive')"
      ],
      "metadata": {
        "colab": {
          "base_uri": "https://localhost:8080/"
        },
        "id": "L1Ply3ql3zWQ",
        "outputId": "a72d2ca0-08a6-4b49-b6a6-6aaeae0015c2"
      },
      "execution_count": 34,
      "outputs": [
        {
          "output_type": "stream",
          "name": "stdout",
          "text": [
            "Drive already mounted at /content/drive; to attempt to forcibly remount, call drive.mount(\"/content/drive\", force_remount=True).\n"
          ]
        }
      ]
    },
    {
      "cell_type": "markdown",
      "source": [],
      "metadata": {
        "id": "u_ItpNvf_Afw"
      }
    }
  ]
}